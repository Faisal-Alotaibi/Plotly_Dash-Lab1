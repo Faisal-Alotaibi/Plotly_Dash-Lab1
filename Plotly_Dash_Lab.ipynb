{
 "cells": [
  {
   "cell_type": "markdown",
   "metadata": {},
   "source": [
    "# Q0: import dash standard libraries"
   ]
  },
  {
   "cell_type": "code",
   "execution_count": null,
   "metadata": {},
   "outputs": [],
   "source": [
    "from dash import Dash, dcc, html, Input, Output\n",
    "from jupyter_dash import JupyterDash\n",
    "\n",
    "import warnings\n",
    "warnings.filterwarnings('ignore')"
   ]
  },
  {
   "cell_type": "markdown",
   "metadata": {},
   "source": [
    "# Q1: Make dash that prints \"Data Science\""
   ]
  },
  {
   "cell_type": "code",
   "execution_count": null,
   "metadata": {},
   "outputs": [],
   "source": [
    "app = JupyterDash('Test')\n",
    "\n",
    "app.layout = html.Div([\n",
    "    html.H1('Data Science!')\n",
    "])\n",
    "\n",
    "if __name__ == '__main__':\n",
    "    app.run_server()"
   ]
  },
  {
   "cell_type": "markdown",
   "metadata": {},
   "source": [
    "# Q2: Make dash that takes name input and outpt \"Welcome to Data Science dashboard {name}\""
   ]
  },
  {
   "cell_type": "code",
   "execution_count": null,
   "metadata": {},
   "outputs": [],
   "source": [
    "\n",
    "app = JupyterDash('Test')\n",
    "\n",
    "app.layout = html.Div([\n",
    "        dcc.Input(id='input1',placeholder='Enter name!',type='text'),\n",
    "        html.Div(id='output1')\n",
    "])\n",
    "\n",
    "@app.callback(\n",
    "    Output('output1','children'),\n",
    "    Input('input1','value')\n",
    ")\n",
    "\n",
    "def showName(nameValue):\n",
    "    \n",
    "    return f'Welcome to data science {nameValue}!'\n",
    "  \n",
    "\n",
    "if __name__ == '__main__':\n",
    "    app.run_server()"
   ]
  },
  {
   "cell_type": "markdown",
   "metadata": {},
   "source": [
    "# Q3: Make Plotly-Dash that takes two inputs (numbers) and output 3 numbers x, y , z= x+y\n",
    "- hint: use html.Div, dcc.Input(type='number')"
   ]
  },
  {
   "cell_type": "code",
   "execution_count": null,
   "metadata": {},
   "outputs": [],
   "source": [
    "app = JupyterDash('Test')\n",
    "\n",
    "app.layout = html.Div([\n",
    "        dcc.Input(id='input1',placeholder='Enter your 1st number!',type='number'),\n",
    "        dcc.Input(id='input2',placeholder='Enter your 2nd number!',type='number'),\n",
    "        html.Div(id='output1')\n",
    "])\n",
    "\n",
    "@app.callback(\n",
    "    Output('output1','children'),\n",
    "    [Input('input1','value'), Input('input2','value')]\n",
    ")\n",
    "\n",
    "def showName(x,y):\n",
    "    if x and y == None:\n",
    "        return \"No Values\"\n",
    "    else:\n",
    "            z=int(x)+int(y)\n",
    "            return f'y = {int(y)} x = {int(x)} z = {int(z)}!'\n",
    "  \n",
    "\n",
    "if __name__ == '__main__':\n",
    "    app.run_server()"
   ]
  },
  {
   "cell_type": "markdown",
   "metadata": {},
   "source": [
    "# Q4.1: Make JubyterDash with Rangeslider from 1-15 with 6 option"
   ]
  },
  {
   "cell_type": "code",
   "execution_count": null,
   "metadata": {},
   "outputs": [],
   "source": [
    "app = JupyterDash('Test')\n",
    "\n",
    "app.layout = html.Div([    \n",
    "    dcc.RangeSlider(1, 15, 3, id='my-range-slider')])\n",
    "\n",
    "if __name__ == '__main__':\n",
    "    app.run_server()"
   ]
  },
  {
   "cell_type": "markdown",
   "metadata": {},
   "source": [
    "# Q4.2: add to the previous dash: Label, set default value on rangeslider as 7-10"
   ]
  },
  {
   "cell_type": "code",
   "execution_count": null,
   "metadata": {},
   "outputs": [],
   "source": [
    "app = JupyterDash('Test')\n",
    "\n",
    "app.layout = html.Div([\n",
    "    html.Label('Range Slider!!!'),\n",
    "    \n",
    "    dcc.RangeSlider(1, 15, 3, value=[7,10],id='my-range-slider'),\n",
    "    \n",
    "])\n",
    "\n",
    "if __name__ == '__main__':\n",
    "    app.run_server()"
   ]
  },
  {
   "cell_type": "markdown",
   "metadata": {},
   "source": [
    "# Q5: Make 3 different Dcc types (Dropdown - Checkbox...) in one dash"
   ]
  },
  {
   "cell_type": "code",
   "execution_count": null,
   "metadata": {},
   "outputs": [],
   "source": [
    "app = JupyterDash('Test')\n",
    "lst = (\"McDonalds\",\"PizzaHut\",\"KFC\")\n",
    "app.layout = html.Div([\n",
    "    html.H1(\"Plotly Dashboard!\"),\n",
    "    html.H3('Choose count from slider below!'),\n",
    "    \n",
    "    dcc.RangeSlider(1, 15, 3, id='my-range-slider'),\n",
    "    \n",
    "    html.H3('Choose restaurant from the dropdown menu!'),\n",
    "\n",
    "    dcc.Dropdown(id='dropdown',options=lst),\n",
    "    \n",
    "    html.H3('pick the restaurants you like from checklist!'),\n",
    "\n",
    "    dcc.Checklist(id='checklst',options=lst)\n",
    "])\n",
    "\n",
    "if __name__ == '__main__':\n",
    "    app.run_server()"
   ]
  },
  {
   "cell_type": "markdown",
   "metadata": {},
   "source": [
    "# Q6: Make Plotly chart, then add it to a plotly_dash"
   ]
  },
  {
   "cell_type": "code",
   "execution_count": null,
   "metadata": {},
   "outputs": [],
   "source": [
    "import plotly.express as px"
   ]
  },
  {
   "cell_type": "code",
   "execution_count": null,
   "metadata": {},
   "outputs": [],
   "source": [
    "weightLst=(88,94,66,100,122,80,100)\n",
    "heightLst=(188,164,166,170,172,160,180)\n",
    "\n",
    "fig= px.bar(x=weightLst,y=heightLst)\n",
    "fig.show()\n"
   ]
  },
  {
   "cell_type": "code",
   "execution_count": null,
   "metadata": {},
   "outputs": [],
   "source": [
    "app = JupyterDash('Test')\n",
    "\n",
    "app.layout = html.Div([\n",
    "    html.Label('Weight x Height bar chart'),\n",
    "    dcc.Graph(figure=fig)    \n",
    "])\n",
    "\n",
    "if __name__ == '__main__':\n",
    "    app.run_server()"
   ]
  },
  {
   "cell_type": "markdown",
   "metadata": {},
   "source": [
    "# Q7: From our data make plotly-dash with suitble chart, and Dropdown.\n",
    "\n",
    "- Dropdown should contain at least 3 options, each one represents different column.\n",
    "- Add label to dropdown.\n",
    "- The chart data should change depending on the selected dropdown option."
   ]
  },
  {
   "cell_type": "code",
   "execution_count": null,
   "metadata": {},
   "outputs": [],
   "source": [
    "import pandas as pd\n",
    "df = pd.read_csv(\"titanic passenger list.csv\")"
   ]
  },
  {
   "cell_type": "code",
   "execution_count": null,
   "metadata": {},
   "outputs": [],
   "source": [
    "import dash\n",
    "from dash import dcc, html\n",
    "from dash.dependencies import Input, Output\n",
    "import plotly.express as px\n",
    "import pandas as pd\n",
    "\n",
    "app = dash.Dash(__name__)\n",
    "\n",
    "#plot2 = px.scatter(df, x='sex', y='survived', color='sex', labels={'sex': 'Sex', 'survived': 'Survival Status'})\n",
    "#plot2.update_traces(marker=dict(size=12), selector=dict(mode='markers'))\n",
    "\n",
    "class_distribution = df['pclass'].value_counts().reset_index()\n",
    "class_distribution.columns = ['Pclass', 'Count']\n",
    "\n",
    "plot2 = px.pie(class_distribution, names='Pclass', values='Count', title='Passenger Class Distribution')\n",
    "\n",
    "\n",
    "\n",
    "plot3 = px.scatter(df, x='age', y='fare', title='Age vs Fare Scatter Plot')\n",
    "\n",
    "app.layout = html.Div(children=[\n",
    "    html.Br([]),\n",
    "    html.H1('Titanic Visuals Dash App', style={'text-align': 'center', 'color': 'black'}),\n",
    "    html.H2('Bar Charts', style={'text-align': 'center', 'color': 'black'}),\n",
    "\n",
    "    dcc.Dropdown(\n",
    "        id='my-drop',\n",
    "        options=[\n",
    "            {'label': 'Survival Rate', 'value': 'Survival Rate'},\n",
    "            {'label': 'Age Distribution', 'value': 'Age Distribution'},\n",
    "            {'label': 'Sex Distribution', 'value': 'Sex Distribution'}\n",
    "        ],\n",
    "        value='Survival Rate'  \n",
    "    ),\n",
    "    # Graphs\n",
    "    dcc.Graph(id='my-graph'),\n",
    "    html.Br([]),\n",
    "    html.H2('Extra Plots', style={'text-align': 'center', 'color': 'black'}),\n",
    "    dcc.Graph(figure=plot2),\n",
    "    html.Br([]),\n",
    "    dcc.Graph(figure=plot3)\n",
    "\n",
    "])\n",
    "\n",
    "@app.callback(\n",
    "    Output('my-graph', 'figure'),\n",
    "    Input('my-drop', 'value')\n",
    ")\n",
    "def update_graph(selected_column):\n",
    "    if selected_column == 'Survival Rate':\n",
    "        survival_count = df['survived'].value_counts().reset_index()\n",
    "        survival_count.columns = ['Survived', 'Count']\n",
    "        bar_chart = px.bar(survival_count, x='Survived', y='Count', labels={'Survived': 'Survival Status'})\n",
    "        return bar_chart\n",
    "    elif selected_column == 'Age Distribution':\n",
    "        age_bar_chart = px.histogram(df, x='age', nbins=20, labels={'age': 'Age'}, title='Age Distribution')\n",
    "        return age_bar_chart\n",
    "    elif selected_column == 'Sex Distribution':\n",
    "        sex_distribution = df['sex'].value_counts().reset_index()\n",
    "        sex_distribution.columns = ['Sex', 'Count']\n",
    "        sex_bar_chart = px.bar(sex_distribution, x='Sex', y='Count', labels={'Sex': 'Gender'}, title='Gender Distribution')\n",
    "        return sex_bar_chart\n",
    "    else:\n",
    "        return None\n",
    "\n",
    "if __name__ == '__main__':\n",
    "    app.run_server(debug=True)\n"
   ]
  },
  {
   "cell_type": "markdown",
   "metadata": {},
   "source": [
    "# Q8: add 2 more charts to the prevoius Ploty-Dash"
   ]
  },
  {
   "cell_type": "markdown",
   "metadata": {},
   "source": [
    "Answer: Added a pie chart and a scatter plot under the Extra Plots header"
   ]
  },
  {
   "cell_type": "markdown",
   "metadata": {},
   "source": [
    "# Q9: Search for \"Plotly Gallery\" and fetch for a graph and use it with our data.\n",
    "\n",
    "- Note: You need to put the resourse addres of fetched your grapth."
   ]
  },
  {
   "cell_type": "code",
   "execution_count": null,
   "metadata": {},
   "outputs": [],
   "source": [
    "#Resource:https://github.com/plotly/plotly_express/blob/master/gallery.md\n",
    "import dash\n",
    "from dash import dcc, html\n",
    "from dash.dependencies import Input, Output\n",
    "import plotly.express as px\n",
    "import pandas as pd\n",
    "app = dash.Dash(__name__)\n",
    "\n",
    "\n",
    "fig = px.strip(df, x=\"sex\", y=\"age\")\n",
    "\n",
    "app.layout = html.Div([\n",
    "    dcc.Graph(figure=fig)\n",
    "])\n",
    "\n",
    "if __name__ == '__main__':\n",
    "    app.run_server(debug=True)"
   ]
  },
  {
   "cell_type": "markdown",
   "metadata": {},
   "source": [
    "# Challenge 1.1: Create Plotly dash with two charts depends on different columns of the data\n",
    "- First Chart : Pie\n",
    "- Secound Chart: is by your Choice ( Not Pie )"
   ]
  },
  {
   "cell_type": "code",
   "execution_count": null,
   "metadata": {},
   "outputs": [],
   "source": [
    "import dash\n",
    "import dash_core_components as dcc\n",
    "import dash_html_components as html\n",
    "from dash.dependencies import Input, Output\n",
    "import plotly.express as px\n",
    "import pandas as pd\n",
    "\n",
    "\n",
    "app = dash.Dash(__name__)\n",
    "\n",
    "sex_distribution = df['sex'].value_counts().reset_index()\n",
    "sex_distribution.columns = ['Sex', 'Count']\n",
    "pie_chart = px.pie(sex_distribution, names='Sex', values='Count', title='Sex Distribution')\n",
    "\n",
    "pclass_distribution = df['pclass'].value_counts().reset_index()\n",
    "pclass_distribution.columns = ['Pclass', 'Count']\n",
    "bar_chart = px.bar(pclass_distribution, x='Pclass', y='Count', title='Passenger Class Distribution')\n",
    "\n",
    "# App layout\n",
    "app.layout = html.Div([\n",
    "    html.H1('Titanic Data Analysis', style={'text-align': 'center'}),\n",
    "    \n",
    "    dcc.Dropdown(\n",
    "        id='dopdown',\n",
    "        options=[\n",
    "            {'label': 'Sex Distribution Pie chart', 'value': 'pie'},\n",
    "            {'label': 'Passenger Class Distribution Bar chart', 'value': 'bar'},\n",
    "        ],\n",
    "        value='pie'  \n",
    "    ),\n",
    "    \n",
    "    dcc.Graph(id='graphout'),\n",
    "])\n",
    "\n",
    "@app.callback(\n",
    "    Output('graphout', 'figure'),\n",
    "    Input('dopdown', 'value')\n",
    ")\n",
    "def update_selected_chart(selected_chart):\n",
    "    if selected_chart == 'pie':\n",
    "        return pie_chart\n",
    "    else:\n",
    "        return bar_chart\n",
    "\n",
    "if __name__ == '__main__':\n",
    "    app.run_server(debug=True)\n"
   ]
  },
  {
   "cell_type": "markdown",
   "metadata": {},
   "source": [
    "# Challenge 1.2: Make Hovering over a slice of the pie changes the data for the second chart depending on what the slice is."
   ]
  },
  {
   "cell_type": "code",
   "execution_count": null,
   "metadata": {},
   "outputs": [],
   "source": []
  }
 ],
 "metadata": {
  "kernelspec": {
   "display_name": "Python 3 (ipykernel)",
   "language": "python",
   "name": "python3"
  },
  "language_info": {
   "codemirror_mode": {
    "name": "ipython",
    "version": 3
   },
   "file_extension": ".py",
   "mimetype": "text/x-python",
   "name": "python",
   "nbconvert_exporter": "python",
   "pygments_lexer": "ipython3",
   "version": "3.11.6"
  }
 },
 "nbformat": 4,
 "nbformat_minor": 2
}
